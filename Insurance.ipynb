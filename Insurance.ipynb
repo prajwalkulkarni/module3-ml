{
 "cells": [
  {
   "cell_type": "code",
   "execution_count": 1,
   "metadata": {},
   "outputs": [],
   "source": [
    "#  Insurance Premium Calculation based on age"
   ]
  },
  {
   "cell_type": "code",
   "execution_count": 3,
   "metadata": {},
   "outputs": [],
   "source": [
    "import numpy as np \n",
    "import pandas as pd \n",
    "import matplotlib.pyplot as plt \n",
    "import seaborn as sns \n",
    "%matplotlib inline "
   ]
  },
  {
   "cell_type": "code",
   "execution_count": 4,
   "metadata": {
    "scrolled": true
   },
   "outputs": [
    {
     "data": {
      "text/html": [
       "<div>\n",
       "<style scoped>\n",
       "    .dataframe tbody tr th:only-of-type {\n",
       "        vertical-align: middle;\n",
       "    }\n",
       "\n",
       "    .dataframe tbody tr th {\n",
       "        vertical-align: top;\n",
       "    }\n",
       "\n",
       "    .dataframe thead th {\n",
       "        text-align: right;\n",
       "    }\n",
       "</style>\n",
       "<table border=\"1\" class=\"dataframe\">\n",
       "  <thead>\n",
       "    <tr style=\"text-align: right;\">\n",
       "      <th></th>\n",
       "      <th>Age</th>\n",
       "      <th>Insurance Premium (Rs)</th>\n",
       "    </tr>\n",
       "  </thead>\n",
       "  <tbody>\n",
       "    <tr>\n",
       "      <th>0</th>\n",
       "      <td>25</td>\n",
       "      <td>4500</td>\n",
       "    </tr>\n",
       "    <tr>\n",
       "      <th>1</th>\n",
       "      <td>30</td>\n",
       "      <td>5000</td>\n",
       "    </tr>\n",
       "    <tr>\n",
       "      <th>2</th>\n",
       "      <td>35</td>\n",
       "      <td>6000</td>\n",
       "    </tr>\n",
       "    <tr>\n",
       "      <th>3</th>\n",
       "      <td>40</td>\n",
       "      <td>8000</td>\n",
       "    </tr>\n",
       "    <tr>\n",
       "      <th>4</th>\n",
       "      <td>45</td>\n",
       "      <td>11000</td>\n",
       "    </tr>\n",
       "  </tbody>\n",
       "</table>\n",
       "</div>"
      ],
      "text/plain": [
       "   Age  Insurance Premium (Rs)\n",
       "0   25                    4500\n",
       "1   30                    5000\n",
       "2   35                    6000\n",
       "3   40                    8000\n",
       "4   45                   11000"
      ]
     },
     "execution_count": 4,
     "metadata": {},
     "output_type": "execute_result"
    }
   ],
   "source": [
    "df = pd.read_csv(\"Insurance.csv\")  # reading the dataset \n",
    "df.head() "
   ]
  },
  {
   "cell_type": "code",
   "execution_count": 5,
   "metadata": {},
   "outputs": [
    {
     "name": "stdout",
     "output_type": "stream",
     "text": [
      "(10, 2)\n"
     ]
    }
   ],
   "source": [
    "print(df.shape) "
   ]
  },
  {
   "cell_type": "code",
   "execution_count": 6,
   "metadata": {},
   "outputs": [],
   "source": [
    "df.columns = [\"age\" , \"insurance\"]  # renaming the columns "
   ]
  },
  {
   "cell_type": "code",
   "execution_count": 7,
   "metadata": {},
   "outputs": [
    {
     "data": {
      "text/plain": [
       "age          0\n",
       "insurance    0\n",
       "dtype: int64"
      ]
     },
     "execution_count": 7,
     "metadata": {},
     "output_type": "execute_result"
    }
   ],
   "source": [
    "df.isna().sum() # checking for any missing values "
   ]
  },
  {
   "cell_type": "markdown",
   "metadata": {},
   "source": [
    "###  Plotting datapoints "
   ]
  },
  {
   "cell_type": "code",
   "execution_count": 8,
   "metadata": {},
   "outputs": [
    {
     "data": {
      "image/png": "[encoded data removed]",
      "text/plain": [
       "<Figure size 432x288 with 1 Axes>"
      ]
     },
     "metadata": {
      "needs_background": "light"
     },
     "output_type": "display_data"
    }
   ],
   "source": [
    "sns.scatterplot(x = \"age\" , y = \"insurance\" , data =df ) \n",
    "plt.xlabel(\"Age \",  color = \"Red\" , fontsize = 14 )\n",
    "plt.ylabel(\"Insurance \" , color = \"Green\" , fontsize = 14 )\n",
    "plt.show() "
   ]
  },
  {
   "cell_type": "code",
   "execution_count": 9,
   "metadata": {},
   "outputs": [],
   "source": [
    "# From above scatter plot , it looks like there is not a linear relationship between x and y "
   ]
  },
  {
   "cell_type": "markdown",
   "metadata": {},
   "source": [
    "# Using Linear regression "
   ]
  },
  {
   "cell_type": "code",
   "execution_count": 11,
   "metadata": {},
   "outputs": [
    {
     "name": "stdout",
     "output_type": "stream",
     "text": [
      "[[25]\n",
      " [30]\n",
      " [35]\n",
      " [40]\n",
      " [45]\n",
      " [50]\n",
      " [55]\n",
      " [60]\n",
      " [65]\n",
      " [70]]\n"
     ]
    }
   ],
   "source": [
    "from sklearn.linear_model import LinearRegression \n",
    "from sklearn.model_selection import train_test_split \n",
    "\n",
    "x = df.age.values.reshape(-1 , 1 )\n",
    "print(x)\n",
    "y = df.insurance.values.reshape(-1 , 1 ) \n"
   ]
  },
  {
   "cell_type": "code",
   "execution_count": 10,
   "metadata": {},
   "outputs": [
    {
     "data": {
      "text/plain": [
       "LinearRegression()"
      ]
     },
     "execution_count": 10,
     "metadata": {},
     "output_type": "execute_result"
    }
   ],
   "source": [
    "model = LinearRegression() \n",
    "model.fit(x , y) "
   ]
  },
  {
   "cell_type": "code",
   "execution_count": 11,
   "metadata": {},
   "outputs": [
    {
     "name": "stdout",
     "output_type": "stream",
     "text": [
      "66.9\n"
     ]
    }
   ],
   "source": [
    "accuracy = model.score(x , y )\n",
    "print(round(accuracy *100  , 2 )) "
   ]
  },
  {
   "cell_type": "code",
   "execution_count": 12,
   "metadata": {},
   "outputs": [
    {
     "data": {
      "image/png": "[encoded data removed]",
      "text/plain": [
       "<Figure size 432x288 with 1 Axes>"
      ]
     },
     "metadata": {
      "needs_background": "light"
     },
     "output_type": "display_data"
    }
   ],
   "source": [
    "# Plotting datapoints for linear regression \n",
    "y_pred = model.predict(x)  \n",
    "plt.plot(x , y_pred, color = \"red\" )\n",
    "sns.scatterplot(x = \"age\" , y = \"insurance\" , data =df ) \n",
    "plt.xlabel(\"Age \",  color = \"Red\" , fontsize = 14 )\n",
    "plt.ylabel(\"Insurance \" , color = \"Green\" , fontsize = 14 )\n",
    "\n",
    "plt.show() "
   ]
  },
  {
   "cell_type": "markdown",
   "metadata": {},
   "source": [
    "<h1 style = \"color : green ; font-family : monospace\" > Using Polynomial Regression </h1>"
   ]
  },
  {
   "cell_type": "markdown",
   "metadata": {},
   "source": [
    "### Degree 2 "
   ]
  },
  {
   "cell_type": "code",
   "execution_count": 13,
   "metadata": {},
   "outputs": [],
   "source": [
    "from sklearn.preprocessing import PolynomialFeatures "
   ]
  },
  {
   "cell_type": "code",
   "execution_count": 14,
   "metadata": {},
   "outputs": [
    {
     "data": {
      "text/plain": [
       "array([[1.000e+00, 2.500e+01, 6.250e+02],\n",
       "       [1.000e+00, 3.000e+01, 9.000e+02],\n",
       "       [1.000e+00, 3.500e+01, 1.225e+03],\n",
       "       [1.000e+00, 4.000e+01, 1.600e+03],\n",
       "       [1.000e+00, 4.500e+01, 2.025e+03],\n",
       "       [1.000e+00, 5.000e+01, 2.500e+03],\n",
       "       [1.000e+00, 5.500e+01, 3.025e+03],\n",
       "       [1.000e+00, 6.000e+01, 3.600e+03],\n",
       "       [1.000e+00, 6.500e+01, 4.225e+03],\n",
       "       [1.000e+00, 7.000e+01, 4.900e+03]])"
      ]
     },
     "execution_count": 14,
     "metadata": {},
     "output_type": "execute_result"
    }
   ],
   "source": [
    "poly_feature_2 = PolynomialFeatures(degree =2 ) \n",
    "poly_x = poly_feature_2.fit_transform(x) \n",
    "poly_x"
   ]
  },
  {
   "cell_type": "code",
   "execution_count": 15,
   "metadata": {},
   "outputs": [
    {
     "name": "stdout",
     "output_type": "stream",
     "text": [
      "91.62\n"
     ]
    }
   ],
   "source": [
    "poly_model_2 = LinearRegression()\n",
    "poly_model_2.fit(poly_x , y )\n",
    "\n",
    "print (round (poly_model_2.score(poly_x , y ) * 100 , 2 ) )\n",
    "y_pred = poly_model_2.predict(poly_x ) "
   ]
  },
  {
   "cell_type": "code",
   "execution_count": 16,
   "metadata": {},
   "outputs": [
    {
     "data": {
      "image/png": "[encoded data removed]",
      "text/plain": [
       "<Figure size 432x288 with 1 Axes>"
      ]
     },
     "metadata": {
      "needs_background": "light"
     },
     "output_type": "display_data"
    }
   ],
   "source": [
    "#  Plotting datapoints for degree 2 \n",
    "\n",
    "sns.scatterplot(x = \"age\" , y = \"insurance\" , data = df ) \n",
    "plt.plot (x , y_pred , color = \"red\" , marker = \"*\")\n",
    "plt.xlabel(\"Age \",  color = \"Red\" , fontsize = 14 )\n",
    "plt.ylabel(\"Insurance \" , color = \"Green\" , fontsize = 14 )\n",
    "plt.show() "
   ]
  },
  {
   "cell_type": "markdown",
   "metadata": {},
   "source": [
    "### Degree 3 "
   ]
  },
  {
   "cell_type": "code",
   "execution_count": 17,
   "metadata": {},
   "outputs": [
    {
     "data": {
      "text/plain": [
       "array([[1.00000e+00, 2.50000e+01, 6.25000e+02, 1.56250e+04],\n",
       "       [1.00000e+00, 3.00000e+01, 9.00000e+02, 2.70000e+04],\n",
       "       [1.00000e+00, 3.50000e+01, 1.22500e+03, 4.28750e+04],\n",
       "       [1.00000e+00, 4.00000e+01, 1.60000e+03, 6.40000e+04],\n",
       "       [1.00000e+00, 4.50000e+01, 2.02500e+03, 9.11250e+04],\n",
       "       [1.00000e+00, 5.00000e+01, 2.50000e+03, 1.25000e+05],\n",
       "       [1.00000e+00, 5.50000e+01, 3.02500e+03, 1.66375e+05],\n",
       "       [1.00000e+00, 6.00000e+01, 3.60000e+03, 2.16000e+05],\n",
       "       [1.00000e+00, 6.50000e+01, 4.22500e+03, 2.74625e+05],\n",
       "       [1.00000e+00, 7.00000e+01, 4.90000e+03, 3.43000e+05]])"
      ]
     },
     "execution_count": 17,
     "metadata": {},
     "output_type": "execute_result"
    }
   ],
   "source": [
    "poly_feature_3 = PolynomialFeatures(degree = 3 )\n",
    "poly_x = poly_feature_3.fit_transform(x)\n",
    "poly_x"
   ]
  },
  {
   "cell_type": "code",
   "execution_count": 18,
   "metadata": {},
   "outputs": [
    {
     "name": "stdout",
     "output_type": "stream",
     "text": [
      "98.12\n"
     ]
    }
   ],
   "source": [
    "poly_model_3 = LinearRegression()\n",
    "poly_model_3.fit(poly_x , y )\n",
    "\n",
    "print (round (poly_model_3.score(poly_x , y ) * 100 , 2 ) )\n",
    "y_pred = poly_model_3.predict(poly_x) "
   ]
  },
  {
   "cell_type": "code",
   "execution_count": 19,
   "metadata": {},
   "outputs": [
    {
     "data": {
      "image/png": "[encoded data removed]",
      "text/plain": [
       "<Figure size 432x288 with 1 Axes>"
      ]
     },
     "metadata": {
      "needs_background": "light"
     },
     "output_type": "display_data"
    }
   ],
   "source": [
    "#  Plotting datapoints for degree 3 \n",
    "\n",
    "sns.scatterplot(x = \"age\" , y = \"insurance\" , data = df ) \n",
    "plt.plot (x , y_pred , color = \"red\" , marker = \"*\")\n",
    "plt.xlabel(\"Age \",  color = \"Red\" , fontsize = 14 )\n",
    "plt.ylabel(\"Insurance \" , color = \"Green\" , fontsize = 14 )\n",
    "plt.show() "
   ]
  },
  {
   "cell_type": "code",
   "execution_count": 20,
   "metadata": {},
   "outputs": [
    {
     "name": "stdout",
     "output_type": "stream",
     "text": [
      "Age - >   Insurance  \n",
      "29  - > 7059.198135079583\n",
      "45  - > 8327.039627083868\n",
      "53  - > 14075.589743623219\n",
      "80  - > 217503.03030341858\n"
     ]
    }
   ],
   "source": [
    "# predicting insurance for ages 29, 45, 53 and 80\n",
    "\n",
    "test_age = np.array([29 , 45 , 53, 80 ]).reshape(-1 , 1 )\n",
    "poly_test_age = poly_feature_3.fit_transform(test_age)\n",
    "\n",
    "poly_pred = poly_model_3.predict(poly_test_age)\n",
    "print (\"Age - >   Insurance  \" )\n",
    "for i , j in zip(test_age , poly_pred) :\n",
    "    print( i[0] , j[0] , sep = \"  - > \" )"
   ]
  },
  {
   "cell_type": "markdown",
   "metadata": {},
   "source": [
    "### Degree 4 "
   ]
  },
  {
   "cell_type": "code",
   "execution_count": 21,
   "metadata": {},
   "outputs": [
    {
     "data": {
      "text/plain": [
       "array([[1.0000000e+00, 2.5000000e+01, 6.2500000e+02, 1.5625000e+04,\n",
       "        3.9062500e+05],\n",
       "       [1.0000000e+00, 3.0000000e+01, 9.0000000e+02, 2.7000000e+04,\n",
       "        8.1000000e+05],\n",
       "       [1.0000000e+00, 3.5000000e+01, 1.2250000e+03, 4.2875000e+04,\n",
       "        1.5006250e+06],\n",
       "       [1.0000000e+00, 4.0000000e+01, 1.6000000e+03, 6.4000000e+04,\n",
       "        2.5600000e+06],\n",
       "       [1.0000000e+00, 4.5000000e+01, 2.0250000e+03, 9.1125000e+04,\n",
       "        4.1006250e+06],\n",
       "       [1.0000000e+00, 5.0000000e+01, 2.5000000e+03, 1.2500000e+05,\n",
       "        6.2500000e+06],\n",
       "       [1.0000000e+00, 5.5000000e+01, 3.0250000e+03, 1.6637500e+05,\n",
       "        9.1506250e+06],\n",
       "       [1.0000000e+00, 6.0000000e+01, 3.6000000e+03, 2.1600000e+05,\n",
       "        1.2960000e+07],\n",
       "       [1.0000000e+00, 6.5000000e+01, 4.2250000e+03, 2.7462500e+05,\n",
       "        1.7850625e+07],\n",
       "       [1.0000000e+00, 7.0000000e+01, 4.9000000e+03, 3.4300000e+05,\n",
       "        2.4010000e+07]])"
      ]
     },
     "execution_count": 21,
     "metadata": {},
     "output_type": "execute_result"
    }
   ],
   "source": [
    "poly_feature_4 = PolynomialFeatures(degree = 4 )\n",
    "poly_x = poly_feature_4.fit_transform(x)\n",
    "poly_x"
   ]
  },
  {
   "cell_type": "code",
   "execution_count": 22,
   "metadata": {},
   "outputs": [
    {
     "name": "stdout",
     "output_type": "stream",
     "text": [
      "99.74\n"
     ]
    }
   ],
   "source": [
    "poly_model_4 = LinearRegression()\n",
    "poly_model_4.fit(poly_x , y )\n",
    "\n",
    "print (round (poly_model_4.score(poly_x , y ) * 100 , 2 ) )\n",
    "y_pred = poly_model_4.predict(poly_x) "
   ]
  },
  {
   "cell_type": "code",
   "execution_count": 23,
   "metadata": {},
   "outputs": [
    {
     "data": {
      "image/png": "[encoded data removed]",
      "text/plain": [
       "<Figure size 432x288 with 1 Axes>"
      ]
     },
     "metadata": {
      "needs_background": "light"
     },
     "output_type": "display_data"
    }
   ],
   "source": [
    "#  Plotting datapoints for degree 4\n",
    "\n",
    "sns.scatterplot(x = \"age\" , y = \"insurance\" , data = df ) \n",
    "plt.plot (x , y_pred , color = \"red\" , marker = \"*\")\n",
    "plt.xlabel(\"Age \",  color = \"Red\" , fontsize = 14 )\n",
    "plt.ylabel(\"Insurance \" , color = \"Green\" , fontsize = 14 )\n",
    "plt.show() "
   ]
  },
  {
   "cell_type": "markdown",
   "metadata": {},
   "source": [
    "### Degree 10"
   ]
  },
  {
   "cell_type": "code",
   "execution_count": 24,
   "metadata": {},
   "outputs": [
    {
     "data": {
      "text/plain": [
       "array([[1.00000000e+00, 2.50000000e+01, 6.25000000e+02, 1.56250000e+04,\n",
       "        3.90625000e+05, 9.76562500e+06, 2.44140625e+08, 6.10351562e+09,\n",
       "        1.52587891e+11, 3.81469727e+12, 9.53674316e+13],\n",
       "       [1.00000000e+00, 3.00000000e+01, 9.00000000e+02, 2.70000000e+04,\n",
       "        8.10000000e+05, 2.43000000e+07, 7.29000000e+08, 2.18700000e+10,\n",
       "        6.56100000e+11, 1.96830000e+13, 5.90490000e+14],\n",
       "       [1.00000000e+00, 3.50000000e+01, 1.22500000e+03, 4.28750000e+04,\n",
       "        1.50062500e+06, 5.25218750e+07, 1.83826562e+09, 6.43392969e+10,\n",
       "        2.25187539e+12, 7.88156387e+13, 2.75854735e+15],\n",
       "       [1.00000000e+00, 4.00000000e+01, 1.60000000e+03, 6.40000000e+04,\n",
       "        2.56000000e+06, 1.02400000e+08, 4.09600000e+09, 1.63840000e+11,\n",
       "        6.55360000e+12, 2.62144000e+14, 1.04857600e+16],\n",
       "       [1.00000000e+00, 4.50000000e+01, 2.02500000e+03, 9.11250000e+04,\n",
       "        4.10062500e+06, 1.84528125e+08, 8.30376562e+09, 3.73669453e+11,\n",
       "        1.68151254e+13, 7.56680643e+14, 3.40506289e+16],\n",
       "       [1.00000000e+00, 5.00000000e+01, 2.50000000e+03, 1.25000000e+05,\n",
       "        6.25000000e+06, 3.12500000e+08, 1.56250000e+10, 7.81250000e+11,\n",
       "        3.90625000e+13, 1.95312500e+15, 9.76562500e+16],\n",
       "       [1.00000000e+00, 5.50000000e+01, 3.02500000e+03, 1.66375000e+05,\n",
       "        9.15062500e+06, 5.03284375e+08, 2.76806406e+10, 1.52243523e+12,\n",
       "        8.37339379e+13, 4.60536658e+15, 2.53295162e+17],\n",
       "       [1.00000000e+00, 6.00000000e+01, 3.60000000e+03, 2.16000000e+05,\n",
       "        1.29600000e+07, 7.77600000e+08, 4.66560000e+10, 2.79936000e+12,\n",
       "        1.67961600e+14, 1.00776960e+16, 6.04661760e+17],\n",
       "       [1.00000000e+00, 6.50000000e+01, 4.22500000e+03, 2.74625000e+05,\n",
       "        1.78506250e+07, 1.16029062e+09, 7.54188906e+10, 4.90222789e+12,\n",
       "        3.18644813e+14, 2.07119128e+16, 1.34627433e+18],\n",
       "       [1.00000000e+00, 7.00000000e+01, 4.90000000e+03, 3.43000000e+05,\n",
       "        2.40100000e+07, 1.68070000e+09, 1.17649000e+11, 8.23543000e+12,\n",
       "        5.76480100e+14, 4.03536070e+16, 2.82475249e+18]])"
      ]
     },
     "execution_count": 24,
     "metadata": {},
     "output_type": "execute_result"
    }
   ],
   "source": [
    "poly_feature_10 = PolynomialFeatures(degree = 10 )\n",
    "poly_x = poly_feature_10.fit_transform(x)\n",
    "poly_x"
   ]
  },
  {
   "cell_type": "code",
   "execution_count": 25,
   "metadata": {},
   "outputs": [
    {
     "name": "stdout",
     "output_type": "stream",
     "text": [
      "100.0\n"
     ]
    }
   ],
   "source": [
    "poly_model_10 = LinearRegression()\n",
    "poly_model_10.fit(poly_x , y )\n",
    "\n",
    "print (round (poly_model_10.score(poly_x , y ) * 100 , 2 ) )\n",
    "y_pred = poly_model_10.predict(poly_x)"
   ]
  },
  {
   "cell_type": "code",
   "execution_count": 26,
   "metadata": {},
   "outputs": [
    {
     "data": {
      "image/png": "[encoded data removed]",
      "text/plain": [
       "<Figure size 432x288 with 1 Axes>"
      ]
     },
     "metadata": {
      "needs_background": "light"
     },
     "output_type": "display_data"
    }
   ],
   "source": [
    "# Plotting datapoints for degree 10 \n",
    "\n",
    "sns.scatterplot(x = \"age\" , y = \"insurance\" , data = df ) \n",
    "plt.plot (x , y_pred , color = \"red\" , marker = \"*\")\n",
    "plt.xlabel(\"Age \",  color = \"Red\" , fontsize = 14 )\n",
    "plt.ylabel(\"Insurance \" , color = \"Green\" , fontsize = 14 )\n",
    "plt.show() "
   ]
  }
 ],
 "metadata": {
  "kernelspec": {
   "display_name": "Python 3",
   "language": "python",
   "name": "python3"
  },
  "language_info": {
   "codemirror_mode": {
    "name": "ipython",
    "version": 3
   },
   "file_extension": ".py",
   "mimetype": "text/x-python",
   "name": "python",
   "nbconvert_exporter": "python",
   "pygments_lexer": "ipython3",
   "version": "3.8.2"
  }
 },
 "nbformat": 4,
 "nbformat_minor": 2
}
